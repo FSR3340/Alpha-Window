{
 "cells": [
  {
   "cell_type": "code",
   "execution_count": 5,
   "metadata": {},
   "outputs": [],
   "source": [
    "import re\n",
    "import requests\n",
    "html = requests.get('https://aqicn.org/city/beijing/')\n",
    "html_bytes = html.content\n",
    "content = html_bytes.decode()\n",
    "from pymongo import MongoClient\n",
    "client = MongoClient('mongodb://127.0.0.1:27017')\n",
    "database = client.data\n",
    "collection = database.weather"
   ]
  },
  {
   "cell_type": "code",
   "execution_count": 6,
   "metadata": {},
   "outputs": [
    {
     "name": "stdout",
     "output_type": "stream",
     "text": [
      "[('182', '161', '239')] [('105', '66', '149')] [('1', '1', '9')] [('22', '18', '68')] [('1', '1', '8')] [('16', '10', '43')]\n"
     ]
    }
   ],
   "source": [
    "pm25 = re.findall('\"p\":\"pm25\",\"v\":\\[(.*?),(.*?),(.*?)\\],\"i\":', content, re.S)\n",
    "pm10 = re.findall('\"p\":\"pm10\",\"v\":\\[(.*?),(.*?),(.*?)\\],\"i\":', content, re.S)\n",
    "o3 = re.findall('\"p\":\"o3\",\"v\":\\[(.*?),(.*?),(.*?)\\],\"i\":', content, re.S)\n",
    "no2 = re.findall('\"p\":\"no2\",\"v\":\\[(.*?),(.*?),(.*?)\\],\"i\":', content, re.S)\n",
    "so2 = re.findall('\"p\":\"so2\",\"v\":\\[(.*?),(.*?),(.*?)\\],\"i\":', content, re.S)\n",
    "co = re.findall('\"p\":\"co\",\"v\":\\[(.*?),(.*?),(.*?)\\],\"i\":', content, re.S)\n",
    "print(pm25,pm10,o3,no2,so2,co)"
   ]
  },
  {
   "cell_type": "code",
   "execution_count": 20,
   "metadata": {},
   "outputs": [
    {
     "data": {
      "text/plain": [
       "<pymongo.results.InsertOneResult at 0x1c870982d88>"
      ]
     },
     "execution_count": 20,
     "metadata": {},
     "output_type": "execute_result"
    }
   ],
   "source": [
    "data = {\n",
    "    'pm25': {'now':pm25[0][0], 'min':pm25[0][1], 'max':pm25[0][2]},\n",
    "    'pm10': {'now':pm10[0][0], 'min':pm10[0][1], 'max':pm10[0][2]},\n",
    "    'o3'  : {'now':o3[0][0], 'min':o3[0][1], 'max':o3[0][2]},\n",
    "    'no2' : {'now':no2[0][0], 'min':no2[0][1], 'max':no2[0][2]},\n",
    "    'so2' : {'now':so2[0][0], 'min':so2[0][1], 'max':so2[0][2]},\n",
    "    'co'  : {'now':co[0][0], 'min':co[0][1], 'max':co[0][2]}\n",
    "}\n",
    "collection.insert_one(data)"
   ]
  },
  {
   "cell_type": "code",
   "execution_count": null,
   "metadata": {},
   "outputs": [],
   "source": []
  }
 ],
 "metadata": {
  "kernelspec": {
   "display_name": "Python 3",
   "language": "python",
   "name": "python3"
  },
  "language_info": {
   "codemirror_mode": {
    "name": "ipython",
    "version": 3
   },
   "file_extension": ".py",
   "mimetype": "text/x-python",
   "name": "python",
   "nbconvert_exporter": "python",
   "pygments_lexer": "ipython3",
   "version": "3.7.9"
  }
 },
 "nbformat": 4,
 "nbformat_minor": 4
}
